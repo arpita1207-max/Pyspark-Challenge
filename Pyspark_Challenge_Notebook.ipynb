{
  "nbformat": 4,
  "nbformat_minor": 0,
  "metadata": {
    "colab": {
      "provenance": []
    },
    "kernelspec": {
      "name": "python3",
      "display_name": "Python 3"
    },
    "language_info": {
      "name": "python"
    }
  },
  "cells": [
    {
      "cell_type": "markdown",
      "source": [
        "### Pyspark Challenge\n",
        "\n",
        "\n",
        "\n"
      ],
      "metadata": {
        "id": "0K8JYzMZfAK-"
      }
    },
    {
      "cell_type": "code",
      "execution_count": 7,
      "metadata": {
        "id": "W1c-XF6NW7Pv"
      },
      "outputs": [],
      "source": [
        "from pyspark.sql import SparkSession\n",
        "from pyspark.sql.types import *\n",
        "from pyspark.sql.functions import *\n"
      ]
    },
    {
      "cell_type": "code",
      "source": [
        "spark=SparkSession.builder.appName('SparkChallenge.com').getOrCreate()\n"
      ],
      "metadata": {
        "id": "eB12_-1XW-WJ"
      },
      "execution_count": 43,
      "outputs": []
    },
    {
      "cell_type": "markdown",
      "source": [
        "#### 1. Create a PySpark DataFrame for an Indian Employee Database and display the schema & first 3 rows?"
      ],
      "metadata": {
        "id": "d_OF6iQoXQlg"
      }
    },
    {
      "cell_type": "code",
      "source": [
        "## create a dataframe\n",
        "data=[(1,'Amit','IT',60000),\n",
        "      (2,'Priya','HR',55000),\n",
        "      (3,'Rahul','Finance',75000),\n",
        "      (4,'Sneha','IT',80000),\n",
        "      (5,'Karan','HR',65000)]\n",
        "\n",
        "employee_df=spark.createDataFrame(data=data,schema=['id','name','dept','salary'])\n",
        "## displaying top 3 rows by id\n",
        "employee_df.show(3)"
      ],
      "metadata": {
        "colab": {
          "base_uri": "https://localhost:8080/"
        },
        "id": "4i-OJ9M6XKCe",
        "outputId": "0c9ab925-bb55-47ce-d6fd-d8999e1bd8c5"
      },
      "execution_count": 14,
      "outputs": [
        {
          "output_type": "stream",
          "name": "stdout",
          "text": [
            "+---+-----+-------+------+\n",
            "| id| name|   dept|salary|\n",
            "+---+-----+-------+------+\n",
            "|  1| Amit|     IT| 60000|\n",
            "|  2|Priya|     HR| 55000|\n",
            "|  3|Rahul|Finance| 75000|\n",
            "+---+-----+-------+------+\n",
            "only showing top 3 rows\n",
            "\n"
          ]
        }
      ]
    },
    {
      "cell_type": "markdown",
      "source": [
        "#### 2.Filter employees earning more than ₹70,000?\n"
      ],
      "metadata": {
        "id": "pwB02ArVaQpS"
      }
    },
    {
      "cell_type": "code",
      "source": [
        "employee_df.filter(employee_df.salary>70000).show()"
      ],
      "metadata": {
        "id": "dGTbeGkcXcgp",
        "colab": {
          "base_uri": "https://localhost:8080/"
        },
        "outputId": "b33be384-7e55-4901-d411-267efa13fd27"
      },
      "execution_count": 15,
      "outputs": [
        {
          "output_type": "stream",
          "name": "stdout",
          "text": [
            "+---+-----+-------+------+\n",
            "| id| name|   dept|salary|\n",
            "+---+-----+-------+------+\n",
            "|  3|Rahul|Finance| 75000|\n",
            "|  4|Sneha|     IT| 80000|\n",
            "+---+-----+-------+------+\n",
            "\n"
          ]
        }
      ]
    },
    {
      "cell_type": "markdown",
      "source": [
        "#### 3.Calculate the average salary per department?"
      ],
      "metadata": {
        "id": "QNRfCMRNakdn"
      }
    },
    {
      "cell_type": "code",
      "source": [
        "employee_df.groupBy('dept').agg(avg('salary').alias('Average Salary')).show()"
      ],
      "metadata": {
        "colab": {
          "base_uri": "https://localhost:8080/"
        },
        "id": "orJJLziEadKT",
        "outputId": "05af6c8b-2e56-44dc-baae-44d498c88f74"
      },
      "execution_count": 44,
      "outputs": [
        {
          "output_type": "stream",
          "name": "stdout",
          "text": [
            "+-------+--------------+\n",
            "|   dept|Average Salary|\n",
            "+-------+--------------+\n",
            "|     HR|       60000.0|\n",
            "|     IT|       70000.0|\n",
            "|Finance|       75000.0|\n",
            "+-------+--------------+\n",
            "\n"
          ]
        }
      ]
    },
    {
      "cell_type": "markdown",
      "source": [
        "#### 4.Find employees whose name starts with ‘A’?\n"
      ],
      "metadata": {
        "id": "ODLE-57Pa8M2"
      }
    },
    {
      "cell_type": "code",
      "source": [
        "employee_df.filter(employee_df.name.startswith('A')).show()"
      ],
      "metadata": {
        "colab": {
          "base_uri": "https://localhost:8080/"
        },
        "id": "6vBut6WWawWg",
        "outputId": "0f1d5d83-7107-4215-9179-c99919d7eea4"
      },
      "execution_count": 18,
      "outputs": [
        {
          "output_type": "stream",
          "name": "stdout",
          "text": [
            "+---+----+----+------+\n",
            "| id|name|dept|salary|\n",
            "+---+----+----+------+\n",
            "|  1|Amit|  IT| 60000|\n",
            "+---+----+----+------+\n",
            "\n"
          ]
        }
      ]
    },
    {
      "cell_type": "markdown",
      "source": [
        "#### 5. Count the number of employees in each department?\n"
      ],
      "metadata": {
        "id": "ENaXqqoHbO9O"
      }
    },
    {
      "cell_type": "code",
      "source": [
        "employee_df.groupby('dept').agg(count(col('id')).alias('No of Employees')).show()"
      ],
      "metadata": {
        "colab": {
          "base_uri": "https://localhost:8080/"
        },
        "id": "7pU9FVBEbKRX",
        "outputId": "25968f79-7b17-470f-ae33-ade3dcfc0349"
      },
      "execution_count": 45,
      "outputs": [
        {
          "output_type": "stream",
          "name": "stdout",
          "text": [
            "+-------+---------------+\n",
            "|   dept|No of Employees|\n",
            "+-------+---------------+\n",
            "|     HR|              2|\n",
            "|     IT|              2|\n",
            "|Finance|              1|\n",
            "+-------+---------------+\n",
            "\n"
          ]
        }
      ]
    },
    {
      "cell_type": "markdown",
      "source": [
        "####  6.Add a Tax Deduction column (10% of salary)?\n"
      ],
      "metadata": {
        "id": "tE5vE3VLbkBQ"
      }
    },
    {
      "cell_type": "code",
      "source": [
        "employee_df.withColumn('tax_deduction',col('salary')*(0.1)).show()"
      ],
      "metadata": {
        "colab": {
          "base_uri": "https://localhost:8080/"
        },
        "id": "iCXDTXwCbWlE",
        "outputId": "83ea2990-ec4e-4812-ad69-919ba17fb113"
      },
      "execution_count": 26,
      "outputs": [
        {
          "output_type": "stream",
          "name": "stdout",
          "text": [
            "+---+-----+-------+------+-------------+\n",
            "| id| name|   dept|salary|tax_deduction|\n",
            "+---+-----+-------+------+-------------+\n",
            "|  1| Amit|     IT| 60000|       6000.0|\n",
            "|  2|Priya|     HR| 55000|       5500.0|\n",
            "|  3|Rahul|Finance| 75000|       7500.0|\n",
            "|  4|Sneha|     IT| 80000|       8000.0|\n",
            "|  5|Karan|     HR| 65000|       6500.0|\n",
            "+---+-----+-------+------+-------------+\n",
            "\n"
          ]
        }
      ]
    },
    {
      "cell_type": "markdown",
      "source": [
        "####  7.Sort employees by Salary (Descending Order)?\n"
      ],
      "metadata": {
        "id": "CK8_QpzzcEbH"
      }
    },
    {
      "cell_type": "code",
      "source": [
        "employee_df.sort(col('salary').desc()).show()"
      ],
      "metadata": {
        "colab": {
          "base_uri": "https://localhost:8080/"
        },
        "id": "VcPxDgoNb4GY",
        "outputId": "da1f10f9-ac3a-4ad4-c080-dcd598abb801"
      },
      "execution_count": 31,
      "outputs": [
        {
          "output_type": "stream",
          "name": "stdout",
          "text": [
            "+---+-----+-------+------+\n",
            "| id| name|   dept|salary|\n",
            "+---+-----+-------+------+\n",
            "|  4|Sneha|     IT| 80000|\n",
            "|  3|Rahul|Finance| 75000|\n",
            "|  5|Karan|     HR| 65000|\n",
            "|  1| Amit|     IT| 60000|\n",
            "|  2|Priya|     HR| 55000|\n",
            "+---+-----+-------+------+\n",
            "\n"
          ]
        }
      ]
    },
    {
      "cell_type": "markdown",
      "source": [
        "#### 8.Find the Second Highest Salary (without LIMIT or OFFSET)?\n"
      ],
      "metadata": {
        "id": "QptLTaDgcT0O"
      }
    },
    {
      "cell_type": "code",
      "source": [
        "employee_df.sort(col('salary').desc()).collect()[1][3]"
      ],
      "metadata": {
        "colab": {
          "base_uri": "https://localhost:8080/"
        },
        "id": "fsWASmEVcOX2",
        "outputId": "166b3ffa-12bd-4b25-a9e7-7f744bc5d581"
      },
      "execution_count": 35,
      "outputs": [
        {
          "output_type": "execute_result",
          "data": {
            "text/plain": [
              "75000"
            ]
          },
          "metadata": {},
          "execution_count": 35
        }
      ]
    },
    {
      "cell_type": "markdown",
      "source": [
        "#### 9.Filter employees in HR or IT Department?\n"
      ],
      "metadata": {
        "id": "gpfFa3iic692"
      }
    },
    {
      "cell_type": "code",
      "source": [
        "employee_df.filter(col('dept').isin('HR','IT')).show()"
      ],
      "metadata": {
        "colab": {
          "base_uri": "https://localhost:8080/"
        },
        "id": "aUygs9EKcm2u",
        "outputId": "f2605c4d-8213-4197-ca84-409c6246f164"
      },
      "execution_count": 36,
      "outputs": [
        {
          "output_type": "stream",
          "name": "stdout",
          "text": [
            "+---+-----+----+------+\n",
            "| id| name|dept|salary|\n",
            "+---+-----+----+------+\n",
            "|  1| Amit|  IT| 60000|\n",
            "|  2|Priya|  HR| 55000|\n",
            "|  4|Sneha|  IT| 80000|\n",
            "|  5|Karan|  HR| 65000|\n",
            "+---+-----+----+------+\n",
            "\n"
          ]
        }
      ]
    },
    {
      "cell_type": "markdown",
      "source": [
        "#### 10.Calculate the Total Salary Paid by the Company?\n"
      ],
      "metadata": {
        "id": "P34T1RlWdJ_G"
      }
    },
    {
      "cell_type": "code",
      "source": [
        "employee_df.agg(sum('salary').alias('Total Salary')).show()"
      ],
      "metadata": {
        "colab": {
          "base_uri": "https://localhost:8080/"
        },
        "id": "JZRBR0bAdE83",
        "outputId": "f58ccbf5-1adf-4c48-d639-e96d0ffa618f"
      },
      "execution_count": 42,
      "outputs": [
        {
          "output_type": "stream",
          "name": "stdout",
          "text": [
            "+------------+\n",
            "|Total Salary|\n",
            "+------------+\n",
            "|      335000|\n",
            "+------------+\n",
            "\n"
          ]
        }
      ]
    },
    {
      "cell_type": "code",
      "source": [],
      "metadata": {
        "id": "9iig_VGxdUE8"
      },
      "execution_count": null,
      "outputs": []
    }
  ]
}